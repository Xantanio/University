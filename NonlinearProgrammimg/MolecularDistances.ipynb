{
 "cells": [
  {
   "cell_type": "markdown",
   "id": "21d8a70b",
   "metadata": {},
   "source": [
    "# PNL 2024: Trabalho Computacional\n",
    "\n",
    "# Problema de Distâncias Moleculares\n",
    "\n",
    "\n",
    "## Contexto\n",
    "\n",
    "A determinação da geometria de um molécula é um problema de grande interesse prático. Uma das técnicas mais utilizadas para este fim é a Ressonância Magnética Nuclear (RMN). Curiosamente, a RMN não fornece a posição dos átomos de uma molécula. Em vez disso, a informação da RMN são algumas distâncias interatomicas dos átomos da molécula de interesse. Essa característica experimental dá origem ao Problema Geométrico de Distâncias Moleculares (PGDM), onde o objetivo é determinar uma configuração de átomos que seja compatível com as distâncias interatomicas determinadas pela RMN.\n",
    "\n",
    "Neste trabalho vamos considerar uma versão simplicada do PGDM que considera apenas átomos coplanares (2D).\n",
    "\n",
    "## Definição\n",
    "\n",
    "Dado um conjunto $V= \\{1,2,\\ldots,n\\}$, uma lista de pares $E\\subset V\\times V$ e uma função $d:E\\to\\mathbb{R}^+$, determine coordenadas $x_1,x_2,\\ldots, x_n\\in\\mathbb{R}^2$ tais que\n",
    "\n",
    "$$||x_{i} - x_{j}|| = d(i,j), \\forall (i,j) \\in E.$$\n",
    "\n",
    "Cada uma destas restrições exige que as coordenadas $x_i$, $x_j$ sejam compatíveis com a distância. $d(i,j)$. Em outras palavras, conhecemos as distâncias ($d(i,j)$ entre alguns átomos, mas não as posições $x_i, x_j$.\n",
    "\n",
    "\n",
    "## Tarefas\n",
    "\n",
    "1. Encontre uma formulação de otimização para o PGDM, ou seja, escreva um problema de otimização cujo mínimo seja uma solução do PGDM.\n",
    "\n",
    "2. Aplique os métodos abaixo para obter um minimizador.\n",
    "\n",
    "- Gradiente Descendente;\n",
    "- Gradiente Conjugado com atualização de Polak-Ribière;\n",
    "\n",
    "3. Comparação dos resultados obtidos, incluindo tempo de execução, valor da função objetivo, número de iterações, erro em relação a \\( d_ij \\) e outros parâmetros relevantes.\n",
    "\n",
    "## Observação:\n",
    "\n",
    "- Você deve completar a implementação das funções abaixo, onde $D$ é uma matriz quadrada contendo as distâncias a serem satisfeitas."
   ]
  }
 ],
 "metadata": {
  "language_info": {
   "name": "python"
  }
 },
 "nbformat": 4,
 "nbformat_minor": 5
}
